{
 "cells": [
  {
   "cell_type": "code",
   "execution_count": 1,
   "id": "53224c9f-841c-4669-a4db-ff41790d1d90",
   "metadata": {},
   "outputs": [
    {
     "name": "stdout",
     "output_type": "stream",
     "text": [
      "✅ filetree.json 생성 완료!\n"
     ]
    }
   ],
   "source": [
    "import os\n",
    "import json\n",
    "\n",
    "def build_tree(root_path):\n",
    "    tree = []\n",
    "    for item in os.listdir(root_path):\n",
    "        full_path = os.path.join(root_path, item)\n",
    "        if os.path.isdir(full_path):\n",
    "            tree.append({\n",
    "                \"name\": item,\n",
    "                \"type\": \"folder\",\n",
    "                \"children\": build_tree(full_path)\n",
    "            })\n",
    "        else:\n",
    "            tree.append({\n",
    "                \"name\": item,\n",
    "                \"type\": \"file\",\n",
    "                \"path\": os.path.relpath(full_path).replace(\"\\\\\", \"/\")  # 경로 통일\n",
    "            })\n",
    "    return tree\n",
    "\n",
    "if __name__ == \"__main__\":\n",
    "    root_folder = r\"E:\\__YS_archive\\kr\\감독님 사이트\\홈페이지내 게시자료\\홈페이지내감독님관련게시자료\"\n",
    "    file_tree = build_tree(root_folder)\n",
    "\n",
    "    output_path = os.path.join(root_folder, \"filetree.json\")\n",
    "    with open(output_path, \"w\", encoding=\"utf-8\") as f:\n",
    "        json.dump(file_tree, f, indent=2, ensure_ascii=False)\n",
    "\n",
    "    print(\"✅ filetree.json 생성 완료!\")\n"
   ]
  },
  {
   "cell_type": "code",
   "execution_count": 2,
   "id": "45e9c1b4-7a9c-4096-b124-8db144e4bb9d",
   "metadata": {},
   "outputs": [
    {
     "name": "stdout",
     "output_type": "stream",
     "text": [
      "✅ 완료: 수정된 파일 저장 → E:\\__YS_archive\\kr\\감독님 사이트\\홈페이지내 게시자료\\홈페이지내감독님관련게시자료\\filetree_web.json\n"
     ]
    }
   ],
   "source": [
    "import json\n",
    "\n",
    "# 원본 JSON 파일 경로\n",
    "json_path = r\"E:\\__YS_archive\\kr\\감독님 사이트\\홈페이지내 게시자료\\홈페이지내감독님관련게시자료\\filetree.json\"\n",
    "\n",
    "# 웹에서 사용할 경로로 바꿀 기준\n",
    "source_prefix = \"홈페이지내감독님관련게시자료\"\n",
    "target_prefix = \"assets/04_achv2\"\n",
    "\n",
    "# 파일 열기\n",
    "with open(json_path, \"r\", encoding=\"utf-8\") as f:\n",
    "    data = json.load(f)\n",
    "\n",
    "# 재귀적으로 path 수정\n",
    "def update_paths(node):\n",
    "    if isinstance(node, list):\n",
    "        for item in node:\n",
    "            update_paths(item)\n",
    "    elif isinstance(node, dict):\n",
    "        if \"path\" in node and node[\"path\"].startswith(source_prefix):\n",
    "            node[\"path\"] = node[\"path\"].replace(source_prefix, target_prefix, 1)\n",
    "        if \"children\" in node:\n",
    "            update_paths(node[\"children\"])\n",
    "\n",
    "# path 치환 수행\n",
    "update_paths(data)\n",
    "\n",
    "# 결과 저장\n",
    "output_path = json_path.replace(\"filetree.json\", \"filetree_web.json\")\n",
    "with open(output_path, \"w\", encoding=\"utf-8\") as f:\n",
    "    json.dump(data, f, indent=2, ensure_ascii=False)\n",
    "\n",
    "print(f\"✅ 완료: 수정된 파일 저장 → {output_path}\")\n"
   ]
  },
  {
   "cell_type": "code",
   "execution_count": null,
   "id": "50110eda-26f7-4aff-8e05-1ab073d90a05",
   "metadata": {},
   "outputs": [],
   "source": []
  }
 ],
 "metadata": {
  "kernelspec": {
   "display_name": "Python 3 (ipykernel)",
   "language": "python",
   "name": "python3"
  },
  "language_info": {
   "codemirror_mode": {
    "name": "ipython",
    "version": 3
   },
   "file_extension": ".py",
   "mimetype": "text/x-python",
   "name": "python",
   "nbconvert_exporter": "python",
   "pygments_lexer": "ipython3",
   "version": "3.10.14"
  }
 },
 "nbformat": 4,
 "nbformat_minor": 5
}
